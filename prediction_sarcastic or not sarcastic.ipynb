{
 "cells": [
  {
   "cell_type": "code",
   "execution_count": 1,
   "id": "c966e5cf",
   "metadata": {},
   "outputs": [],
   "source": [
    "FILE_PATH =\"sarcastic_data.csv\"\n",
    "EXPORT_MODEL =\"model_sarcastic.pkl\"\n",
    "TFidf =\"tfidf.pkl\""
   ]
  },
  {
   "cell_type": "code",
   "execution_count": null,
   "id": "67f8b80f",
   "metadata": {},
   "outputs": [],
   "source": [
    "import pickle\n",
    "import pandas as pd\n",
    "import numpy as np\n",
    "import re"
   ]
  },
  {
   "cell_type": "code",
   "execution_count": 3,
   "id": "57cefd7e",
   "metadata": {},
   "outputs": [],
   "source": [
    "with open(TFidf, 'rb') as f:\n",
    "    tfidf= pickle.load(f)\n",
    "    \n",
    "with open(EXPORT_MODEL, 'rb') as f:\n",
    "    clf= pickle.load(f)"
   ]
  },
  {
   "cell_type": "code",
   "execution_count": 4,
   "id": "30143e5a",
   "metadata": {},
   "outputs": [],
   "source": [
    "# Map category ID to category name\n",
    "category_mapping ={\n",
    "    1:'sarcastic',\n",
    "    0:'Not sarcastic' \n",
    "}"
   ]
  },
  {
   "cell_type": "code",
   "execution_count": 6,
   "id": "c23a0f10",
   "metadata": {},
   "outputs": [],
   "source": [
    "def cleaning_text(text): \n",
    "    cleantext=re.sub('http\\S+',' ', text)\n",
    "    cleantext = re.sub('RT|cc', ' ',cleantext)\n",
    "    cleantext=re.sub('#\\S+\\s',' ',cleantext)\n",
    "    cleantext = re.sub('@\\S+', '  ', cleantext)\n",
    "    cleantext = re.sub('[%s]' % re.escape(\"\"\"!\"#$%&'()*+,-./:;<=>?@[\\]^_`{|}~\"\"\"), ' ', cleantext)\n",
    "    cleantext = re.sub(r'[^\\x00-\\x7f]', ' ', cleantext) \n",
    "    cleantext = re.sub('\\s+', ' ', cleantext) \n",
    "    \n",
    "    return cleantext\n",
    "    "
   ]
  },
  {
   "cell_type": "code",
   "execution_count": 7,
   "id": "a804ee91",
   "metadata": {},
   "outputs": [],
   "source": [
    "def prediction(text):\n",
    "    cleaning =cleaning_text(text)\n",
    "    # covert text using the trained TfidfVectorizer\n",
    "    input_features = tfidf.transform([cleaning])\n",
    "    # Make the prediction using the loaded classifier\n",
    "    prediction_id = clf.predict(input_features)[0]\n",
    "        \n",
    "    category_name = category_mapping.get(prediction_id, \"Unknown\")    \n",
    "        \n",
    "    return category_name"
   ]
  },
  {
   "cell_type": "code",
   "execution_count": 8,
   "id": "c3f6e902",
   "metadata": {},
   "outputs": [],
   "source": [
    "df =pd.read_csv(FILE_PATH)"
   ]
  },
  {
   "cell_type": "code",
   "execution_count": 9,
   "id": "7290d2db",
   "metadata": {},
   "outputs": [
    {
     "data": {
      "text/plain": [
       "\"nuclear bomb detonates during rehearsal for 'spider-man' musical\""
      ]
     },
     "execution_count": 9,
     "metadata": {},
     "output_type": "execute_result"
    }
   ],
   "source": [
    "sample_1 =df[df[\"is_sarcastic\"]==1][\"headline\"][15]\n",
    "sample_1"
   ]
  },
  {
   "cell_type": "code",
   "execution_count": 10,
   "id": "153a5583",
   "metadata": {},
   "outputs": [
    {
     "data": {
      "text/plain": [
       "'what our grieving family needs from loved ones this holiday season'"
      ]
     },
     "execution_count": 10,
     "metadata": {},
     "output_type": "execute_result"
    }
   ],
   "source": [
    "sample_2 =df[df[\"is_sarcastic\"]==0][\"headline\"][55316]\n",
    "sample_2"
   ]
  },
  {
   "cell_type": "code",
   "execution_count": 11,
   "id": "1b37c54a",
   "metadata": {},
   "outputs": [
    {
     "ename": "NameError",
     "evalue": "name 're' is not defined",
     "output_type": "error",
     "traceback": [
      "\u001b[1;31m---------------------------------------------------------------------------\u001b[0m",
      "\u001b[1;31mNameError\u001b[0m                                 Traceback (most recent call last)",
      "Input \u001b[1;32mIn [11]\u001b[0m, in \u001b[0;36m<cell line: 1>\u001b[1;34m()\u001b[0m\n\u001b[1;32m----> 1\u001b[0m \u001b[43mprediction\u001b[49m\u001b[43m(\u001b[49m\u001b[43msample_1\u001b[49m\u001b[43m)\u001b[49m\n",
      "Input \u001b[1;32mIn [7]\u001b[0m, in \u001b[0;36mprediction\u001b[1;34m(text)\u001b[0m\n\u001b[0;32m      1\u001b[0m \u001b[38;5;28;01mdef\u001b[39;00m \u001b[38;5;21mprediction\u001b[39m(text):\n\u001b[1;32m----> 2\u001b[0m     cleaning \u001b[38;5;241m=\u001b[39m\u001b[43mcleaning_text\u001b[49m\u001b[43m(\u001b[49m\u001b[43mtext\u001b[49m\u001b[43m)\u001b[49m\n\u001b[0;32m      3\u001b[0m     \u001b[38;5;66;03m# covert text using the trained TfidfVectorizer\u001b[39;00m\n\u001b[0;32m      4\u001b[0m     input_features \u001b[38;5;241m=\u001b[39m tfidf\u001b[38;5;241m.\u001b[39mtransform([cleaning])\n",
      "Input \u001b[1;32mIn [6]\u001b[0m, in \u001b[0;36mcleaning_text\u001b[1;34m(text)\u001b[0m\n\u001b[0;32m      1\u001b[0m \u001b[38;5;28;01mdef\u001b[39;00m \u001b[38;5;21mcleaning_text\u001b[39m(text): \n\u001b[1;32m----> 2\u001b[0m     cleantext\u001b[38;5;241m=\u001b[39m\u001b[43mre\u001b[49m\u001b[38;5;241m.\u001b[39msub(\u001b[38;5;124m'\u001b[39m\u001b[38;5;124mhttp\u001b[39m\u001b[38;5;124m\\\u001b[39m\u001b[38;5;124mS+\u001b[39m\u001b[38;5;124m'\u001b[39m,\u001b[38;5;124m'\u001b[39m\u001b[38;5;124m \u001b[39m\u001b[38;5;124m'\u001b[39m, text)\n\u001b[0;32m      3\u001b[0m     cleantext \u001b[38;5;241m=\u001b[39m re\u001b[38;5;241m.\u001b[39msub(\u001b[38;5;124m'\u001b[39m\u001b[38;5;124mRT|cc\u001b[39m\u001b[38;5;124m'\u001b[39m, \u001b[38;5;124m'\u001b[39m\u001b[38;5;124m \u001b[39m\u001b[38;5;124m'\u001b[39m,cleantext)\n\u001b[0;32m      4\u001b[0m     cleantext\u001b[38;5;241m=\u001b[39mre\u001b[38;5;241m.\u001b[39msub(\u001b[38;5;124m'\u001b[39m\u001b[38;5;124m#\u001b[39m\u001b[38;5;124m\\\u001b[39m\u001b[38;5;124mS+\u001b[39m\u001b[38;5;124m\\\u001b[39m\u001b[38;5;124ms\u001b[39m\u001b[38;5;124m'\u001b[39m,\u001b[38;5;124m'\u001b[39m\u001b[38;5;124m \u001b[39m\u001b[38;5;124m'\u001b[39m,cleantext)\n",
      "\u001b[1;31mNameError\u001b[0m: name 're' is not defined"
     ]
    }
   ],
   "source": [
    "prediction(sample_1)"
   ]
  },
  {
   "cell_type": "code",
   "execution_count": 54,
   "id": "36d4ca36",
   "metadata": {},
   "outputs": [
    {
     "data": {
      "text/plain": [
       "'Not sarcastic'"
      ]
     },
     "execution_count": 54,
     "metadata": {},
     "output_type": "execute_result"
    }
   ],
   "source": [
    "prediction(sample_2)"
   ]
  }
 ],
 "metadata": {
  "kernelspec": {
   "display_name": "Python 3 (ipykernel)",
   "language": "python",
   "name": "python3"
  },
  "language_info": {
   "codemirror_mode": {
    "name": "ipython",
    "version": 3
   },
   "file_extension": ".py",
   "mimetype": "text/x-python",
   "name": "python",
   "nbconvert_exporter": "python",
   "pygments_lexer": "ipython3",
   "version": "3.9.12"
  }
 },
 "nbformat": 4,
 "nbformat_minor": 5
}
